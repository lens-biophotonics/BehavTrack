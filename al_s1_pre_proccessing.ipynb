{
 "cells": [
  {
   "cell_type": "markdown",
   "id": "1f13f663",
   "metadata": {},
   "source": [
    "This notebook is for performing preprocessing over the raw videos.\n",
    "\n",
    "# Libraries"
   ]
  },
  {
   "cell_type": "code",
   "execution_count": 1,
   "id": "a0ce4664",
   "metadata": {},
   "outputs": [],
   "source": [
    "from src import (\n",
    "    pre_process_video, \n",
    "    get_min_max_frame_rate, \n",
    "    get_min_max_resolution\n",
    ")\n",
    "import os"
   ]
  },
  {
   "cell_type": "markdown",
   "id": "d5aa3700",
   "metadata": {},
   "source": [
    "# Main"
   ]
  },
  {
   "cell_type": "code",
   "execution_count": null,
   "id": "fb4bfce2",
   "metadata": {},
   "outputs": [],
   "source": [
    "source_dir = \"\"\n",
    "output_dir = \"\""
   ]
  },
  {
   "cell_type": "code",
   "execution_count": null,
   "id": "d9c5c71e",
   "metadata": {},
   "outputs": [],
   "source": [
    "min_fps, max_fps = get_min_max_frame_rate(source_dir)\n",
    "min_res, max_res = get_min_max_resolution(source_dir)"
   ]
  },
  {
   "cell_type": "code",
   "execution_count": null,
   "id": "6cba8e03",
   "metadata": {},
   "outputs": [],
   "source": [
    "for video_name in os.listdir(source_dir):\n",
    "    if video_name.endswith(\".mp4\"):\n",
    "        pre_process_video(\n",
    "            source_dir=source_dir,\n",
    "            output_dir=output_dir,\n",
    "            video_file=video_name,\n",
    "            overwrite=True,\n",
    "            duration=900,\n",
    "            fps=min_fps,\n",
    "            w=min_res[0],\n",
    "            h=min_res[1],\n",
    "            use_gpu=False\n",
    "        )"
   ]
  }
 ],
 "metadata": {
  "kernelspec": {
   "display_name": "BehavTrack",
   "language": "python",
   "name": "python3"
  },
  "language_info": {
   "codemirror_mode": {
    "name": "ipython",
    "version": 3
   },
   "file_extension": ".py",
   "mimetype": "text/x-python",
   "name": "python",
   "nbconvert_exporter": "python",
   "pygments_lexer": "ipython3",
   "version": "3.10.16"
  }
 },
 "nbformat": 4,
 "nbformat_minor": 5
}
