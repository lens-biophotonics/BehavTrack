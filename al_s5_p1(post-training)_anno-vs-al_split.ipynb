{
 "cells": [
  {
   "cell_type": "markdown",
   "id": "c8d2132f",
   "metadata": {},
   "source": [
    "1) Loads annotation and active-learning metadata.\n",
    "2) Splits annotations into train/val.\n",
    "3) Carves a prediction subset from the active-learning pool (size based on a percentage of the annotations count).\n",
    "4) Prints split details and copies frames/JSONs to their target folders.\n",
    "\n",
    "# Libraries"
   ]
  },
  {
   "cell_type": "code",
   "execution_count": null,
   "id": "91e2fff9",
   "metadata": {},
   "outputs": [],
   "source": [
    "from src import (\n",
    "    load_metadata,\n",
    "    perform_split,\n",
    "    print_details,\n",
    "    copy_frames\n",
    ")\n",
    "\n",
    "import os"
   ]
  },
  {
   "cell_type": "markdown",
   "id": "4587986a",
   "metadata": {},
   "source": [
    "# Main"
   ]
  },
  {
   "cell_type": "code",
   "execution_count": null,
   "id": "ec398c21",
   "metadata": {},
   "outputs": [],
   "source": [
    "# Directories and filenames\n",
    "source_dir = \"\"\n",
    "output_dir = \"\"\n",
    "al_dir = os.path.join(output_dir, \"active_learning\")\n",
    "annotations_metadata_filename = \"annotations_metadata.json\"\n",
    "aL_metadata_filename = \"active_learning.json\""
   ]
  },
  {
   "cell_type": "code",
   "execution_count": null,
   "id": "2635f7de",
   "metadata": {},
   "outputs": [],
   "source": [
    "# Load metadata\n",
    "annotations_metadata = load_metadata(\n",
    "    source_dir=al_dir, \n",
    "    metadata_filename=annotations_metadata_filename\n",
    ")\n",
    "\n",
    "al_metadata = load_metadata(\n",
    "    source_dir=output_dir, \n",
    "    metadata_filename=aL_metadata_filename\n",
    ")"
   ]
  },
  {
   "cell_type": "markdown",
   "id": "4c64b4d6",
   "metadata": {},
   "source": [
    "#### Split #1: train/val from annotations"
   ]
  },
  {
   "cell_type": "code",
   "execution_count": null,
   "id": "50376722",
   "metadata": {},
   "outputs": [],
   "source": [
    "split_ratio_annotation = 0.15  # 15% → validation\n",
    "\n",
    "train_metadata, val_metadata = perform_split(\n",
    "    metadata=annotations_metadata, \n",
    "    split_ratio=split_ratio_annotation\n",
    ")"
   ]
  },
  {
   "cell_type": "code",
   "execution_count": null,
   "id": "110d1bab",
   "metadata": {},
   "outputs": [],
   "source": [
    "split_data_train = (\n",
    "    (\"train\", \"train.json\"),\n",
    "    (train_metadata, False),              # do not copy images here\n",
    "    (source_dir, al_dir),\n",
    ")\n",
    "split_data_val = (\n",
    "    (\"val\", \"val.json\"),\n",
    "    (val_metadata, False),                # do not copy images here\n",
    "    (source_dir, al_dir),\n",
    ")\n",
    "\n",
    "split_data_1 = [split_data_train, split_data_val]\n",
    "print_details(\n",
    "    metadata=annotations_metadata,\n",
    "    split_data=split_data_1\n",
    ")"
   ]
  },
  {
   "cell_type": "markdown",
   "id": "e04899ff",
   "metadata": {},
   "source": [
    "#### Split B: prediction subset from active-learning pool"
   ]
  },
  {
   "cell_type": "code",
   "execution_count": null,
   "id": "d8cfff59",
   "metadata": {},
   "outputs": [],
   "source": [
    "prediction_percentage = 30  # want #predict ~ 30% of annotation count\n",
    "n_of_annotations = len(annotations_metadata)\n",
    "n_of_al = len(al_metadata)\n",
    "\n",
    "\n",
    "# Desired predict set size (relative to current active-learning pool)\n",
    "desired_predict = int((prediction_percentage * n_of_annotations) / 100) if n_of_annotations > 0 else 0\n",
    "split_ratio_predict = 0.0 if n_of_al == 0 else round(min(1.0, desired_predict / n_of_al), 3)"
   ]
  },
  {
   "cell_type": "code",
   "execution_count": null,
   "id": "697d8129",
   "metadata": {},
   "outputs": [],
   "source": [
    "updated_al_metadata, predict_metadata = perform_split(\n",
    "    metadata=al_metadata,\n",
    "    split_ratio=split_ratio_predict\n",
    ")"
   ]
  },
  {
   "cell_type": "code",
   "execution_count": null,
   "id": "3bda502e",
   "metadata": {},
   "outputs": [],
   "source": [
    "split_data_aL = (\n",
    "    (\"activeLearning\", \"activeLearning.json\"),\n",
    "    (updated_al_metadata, False),\n",
    "    (source_dir, output_dir),\n",
    ")\n",
    "\n",
    "split_data_predict = (\n",
    "    (\"predict\", \"predict.json\"),\n",
    "    (predict_metadata, True),   # copy predict images into al_dir/predict\n",
    "    (source_dir, al_dir),\n",
    ")\n",
    "\n",
    "split_data_2 = [split_data_aL, split_data_predict]\n",
    "\n",
    "print_details(\n",
    "    metadata=al_metadata, \n",
    "    split_data=split_data_2\n",
    ")"
   ]
  },
  {
   "cell_type": "code",
   "execution_count": null,
   "id": "5a5b9062",
   "metadata": {},
   "outputs": [],
   "source": [
    "# copy all splits\n",
    "split_data = split_data_1 + split_data_2\n",
    "\n",
    "for split in split_data:\n",
    "    copy_frames(\n",
    "        split=split\n",
    "    )"
   ]
  }
 ],
 "metadata": {
  "kernelspec": {
   "display_name": "BehavTrack",
   "language": "python",
   "name": "python3"
  },
  "language_info": {
   "codemirror_mode": {
    "name": "ipython",
    "version": 3
   },
   "file_extension": ".py",
   "mimetype": "text/x-python",
   "name": "python",
   "nbconvert_exporter": "python",
   "pygments_lexer": "ipython3",
   "version": "3.10.16"
  }
 },
 "nbformat": 4,
 "nbformat_minor": 5
}
