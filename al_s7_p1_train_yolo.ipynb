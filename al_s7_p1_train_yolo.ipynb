{
 "cells": [
  {
   "cell_type": "markdown",
   "id": "e7febb40",
   "metadata": {},
   "source": [
    "# Libraries"
   ]
  },
  {
   "cell_type": "code",
   "execution_count": null,
   "id": "660e8549",
   "metadata": {},
   "outputs": [],
   "source": [
    "from src import (\n",
    "    train_yolo\n",
    ")"
   ]
  },
  {
   "cell_type": "markdown",
   "id": "55cda507",
   "metadata": {},
   "source": [
    "# Main\n",
    "\n",
    "Optional heuristic for epochs and batch:\n",
    "- 100–500 total frames → epochs ~50,  batch ~16\n",
    "- 500–1000             → epochs ~70,  batch ~18\n",
    "- 1000–1500            → epochs ~90,  batch ~20\n",
    "- \\>1500                → epochs ~110, batch ~22"
   ]
  },
  {
   "cell_type": "code",
   "execution_count": null,
   "id": "2cafa859",
   "metadata": {},
   "outputs": [],
   "source": [
    "params = dict(\n",
    "    model_path = \"\", # either path to prtrained yolo.pt or or the previous cycle best.pt model\n",
    "    path_to_yolo_dataset_yaml = \"yolo_dataset.yaml\", # path to the yolo dataset yaml file\n",
    "    epochs = 50,    \n",
    "    batch = 16,\n",
    "    cycle_name=\"cycle_1\", # cycle name to save the model\n",
    "    output_dir = \"\",\n",
    "    imgz=640, # yolo input image size\n",
    ")"
   ]
  },
  {
   "cell_type": "markdown",
   "id": "18f81466",
   "metadata": {},
   "source": [
    "start training"
   ]
  },
  {
   "cell_type": "code",
   "execution_count": null,
   "id": "77f62aa4",
   "metadata": {},
   "outputs": [],
   "source": [
    "res = train_yolo(**params)"
   ]
  }
 ],
 "metadata": {
  "kernelspec": {
   "display_name": "BehavTrack",
   "language": "python",
   "name": "python3"
  },
  "language_info": {
   "codemirror_mode": {
    "name": "ipython",
    "version": 3
   },
   "file_extension": ".py",
   "mimetype": "text/x-python",
   "name": "python",
   "nbconvert_exporter": "python",
   "pygments_lexer": "ipython3",
   "version": "3.10.16"
  }
 },
 "nbformat": 4,
 "nbformat_minor": 5
}
