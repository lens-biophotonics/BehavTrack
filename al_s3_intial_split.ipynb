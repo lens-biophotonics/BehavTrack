{
 "cells": [
  {
   "cell_type": "markdown",
   "id": "db87d01d",
   "metadata": {},
   "source": [
    "This notebook is the initial phase of the active learning cycle, where we split the active learning pool and test set.\n",
    "\n",
    "# Libraries"
   ]
  },
  {
   "cell_type": "code",
   "execution_count": null,
   "id": "c3fa240e",
   "metadata": {},
   "outputs": [],
   "source": [
    "from src import (\n",
    "    perform_split,\n",
    "    load_metadata,\n",
    "    print_details,\n",
    "    copy_frames\n",
    ")"
   ]
  },
  {
   "cell_type": "markdown",
   "id": "c79d4fe0",
   "metadata": {},
   "source": [
    "# Main"
   ]
  },
  {
   "cell_type": "code",
   "execution_count": null,
   "id": "20dd0a00",
   "metadata": {},
   "outputs": [],
   "source": [
    "source_dir=\"\"\n",
    "output_dir=\"\"\n",
    "metadata_filename = \"frames_info.json\""
   ]
  },
  {
   "cell_type": "code",
   "execution_count": null,
   "id": "57439943",
   "metadata": {},
   "outputs": [],
   "source": [
    "# load the frames metadata\n",
    "metadata = load_metadata(\n",
    "    source_dir=source_dir,\n",
    "    metadata_filename=metadata_filename\n",
    ")"
   ]
  },
  {
   "cell_type": "code",
   "execution_count": null,
   "id": "eb583d8f",
   "metadata": {},
   "outputs": [],
   "source": [
    "# Initial Split Percentages [active learning (al) - 85, test - 15]\n",
    "test_split_ratio = 0.15\n",
    "al_data, test_data = perform_split(\n",
    "    metadata=metadata,\n",
    "    split_ratio=test_split_ratio\n",
    ")"
   ]
  },
  {
   "cell_type": "code",
   "execution_count": null,
   "id": "6f075fa1",
   "metadata": {},
   "outputs": [],
   "source": [
    "split_data = [\n",
    "    (\n",
    "        ('active_learning', 'active_learning.json'), # (output folder name, metadata filename)\n",
    "        (al_data, False), # (metadata, transfer the images to output dir under output folder)\n",
    "        (source_dir, output_dir)\n",
    "    ),\n",
    "    (\n",
    "        ('test', 'test.json'),\n",
    "        (test_data, True), # copy images into output_dir under the folder test\n",
    "        (source_dir, output_dir)\n",
    "    )\n",
    "]\n",
    "\n",
    "print_details(\n",
    "    metadata=metadata,\n",
    "    split_data=split_data\n",
    ")"
   ]
  },
  {
   "cell_type": "code",
   "execution_count": null,
   "id": "ed91e163",
   "metadata": {},
   "outputs": [],
   "source": [
    "# copy the frames to their respective split dir\n",
    "for split in split_data:\n",
    "    copy_frames(\n",
    "        split=split\n",
    "    )"
   ]
  }
 ],
 "metadata": {
  "kernelspec": {
   "display_name": "BehavTrack",
   "language": "python",
   "name": "python3"
  },
  "language_info": {
   "codemirror_mode": {
    "name": "ipython",
    "version": 3
   },
   "file_extension": ".py",
   "mimetype": "text/x-python",
   "name": "python",
   "nbconvert_exporter": "python",
   "pygments_lexer": "ipython3",
   "version": "3.10.16"
  }
 },
 "nbformat": 4,
 "nbformat_minor": 5
}
