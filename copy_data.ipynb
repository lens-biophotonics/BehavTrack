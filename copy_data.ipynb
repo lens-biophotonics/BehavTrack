{
 "cells": [
  {
   "cell_type": "markdown",
   "id": "f69d4060",
   "metadata": {},
   "source": [
    "#### This notebook is to copy the specific *eCig-pre*, *Cig-pre*, and *aria* recordings, from the source dir a new location."
   ]
  },
  {
   "cell_type": "markdown",
   "id": "365d73ae",
   "metadata": {},
   "source": [
    "# Libraries"
   ]
  },
  {
   "cell_type": "code",
   "execution_count": null,
   "id": "cbae3cef",
   "metadata": {},
   "outputs": [],
   "source": [
    "import os\n",
    "import shutil"
   ]
  },
  {
   "cell_type": "markdown",
   "id": "f5e8988d",
   "metadata": {},
   "source": [
    "# Helper Functions"
   ]
  },
  {
   "cell_type": "code",
   "execution_count": null,
   "id": "bb2da8d6",
   "metadata": {},
   "outputs": [],
   "source": [
    "def copy_videos(source_dir: str, destination_dir: str, overwrite: bool = True) -> None:\n",
    "    \"\"\"\n",
    "    Description\n",
    "    -----------\n",
    "    Copies mouse experiment videos (specifically *eCig-pre*, *Cig-pre*, and *aria* recordings) \n",
    "    from a source directory to a destination directory.  \n",
    "    Only `.mp4` files are considered. Tracks how many relevant videos were copied.\n",
    "\n",
    "    Inputs\n",
    "    ------\n",
    "    source_dir : str\n",
    "        Path to the folder containing original video files.\n",
    "    destination_dir : str\n",
    "        Path to the folder where filtered videos will be copied.\n",
    "        Created if it does not already exist.\n",
    "    overwrite : bool, optional (default=True)\n",
    "        - If True: existing files in destination will be overwritten.  \n",
    "        - If False: existing files in destination will be skipped.\n",
    "\n",
    "    Returns\n",
    "    -------\n",
    "    None\n",
    "        Function prints a summary of the copy process but does not return values.\n",
    "\n",
    "    \"\"\"\n",
    "\n",
    "    # Ensure the destination directory exists\n",
    "    os.makedirs(destination_dir, exist_ok=True)\n",
    "\n",
    "    # Counters for reporting\n",
    "    cig, eCig, aria, total = 0, 0, 0, 0\n",
    "\n",
    "    print(\"Copying eCig-pre, Cig-pre, and aria videos...\")\n",
    "\n",
    "    # Validate source directory\n",
    "    if not os.path.exists(source_dir):\n",
    "        raise FileNotFoundError(f\"Source directory '{source_dir}' does not exist.\")\n",
    "\n",
    "    # Cache existing destination files for quick lookups (avoids repeated disk I/O)\n",
    "    existing_files = set(os.listdir(destination_dir))\n",
    "\n",
    "    # Iterate over all files in the source directory\n",
    "    for video_file in os.listdir(source_dir):\n",
    "        full_source_path = os.path.join(source_dir, video_file)\n",
    "\n",
    "        # Consider only `.mp4` files\n",
    "        if not video_file.endswith(\".mp4\"):\n",
    "            continue\n",
    "        total += 1\n",
    "\n",
    "        # Skip if file already exists in destination and overwrite=False\n",
    "        if not overwrite and (video_file in existing_files):\n",
    "            continue\n",
    "\n",
    "        # Normalize filename for case-insensitive checks\n",
    "        lower_name = video_file.lower()\n",
    "\n",
    "        # Classify video type based on filename patterns\n",
    "        if \"aria\" in lower_name:\n",
    "            aria += 1\n",
    "        elif \"pre\" in lower_name:\n",
    "            if \"ecig\" in lower_name:\n",
    "                eCig += 1\n",
    "            elif \"cig\" in lower_name:\n",
    "                cig += 1\n",
    "            else:\n",
    "                # Not an eCig-pre or Cig-pre → skip\n",
    "                continue\n",
    "        else:\n",
    "            # Not aria or pre → skip\n",
    "            continue\n",
    "\n",
    "        # Copy the video into the destination directory\n",
    "        shutil.copy(full_source_path, destination_dir)\n",
    "\n",
    "    # Print final summary\n",
    "    print(\n",
    "        f\"Copy complete!\\n\\t eCig-pre: {eCig}, Cig-pre: {cig}, aria: {aria}. \"\n",
    "        f\"Total copied: {eCig + cig + aria} out of {total} .mp4 files.\"\n",
    "    )"
   ]
  },
  {
   "cell_type": "markdown",
   "id": "58e51c8b",
   "metadata": {},
   "source": [
    "# Main"
   ]
  },
  {
   "cell_type": "code",
   "execution_count": null,
   "id": "523799b7",
   "metadata": {},
   "outputs": [],
   "source": [
    "copy_videos(\n",
    "    source_dir=\"\", \n",
    "    destination_dir=\"\", \n",
    "    overwrite=\"\"\n",
    ")"
   ]
  }
 ],
 "metadata": {
  "kernelspec": {
   "display_name": "BehavTrack",
   "language": "python",
   "name": "python3"
  },
  "language_info": {
   "name": "python",
   "version": "3.10.16"
  }
 },
 "nbformat": 4,
 "nbformat_minor": 5
}
