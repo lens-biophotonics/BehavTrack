{
 "cells": [
  {
   "cell_type": "markdown",
   "id": "2fe64879",
   "metadata": {},
   "source": [
    "Orchestrates the active-learning dataset preparation:\n",
    "1. Load active-learning metadata.\n",
    "2. Split into (activeLearning vs. annotations).\n",
    "3. From activeLearning, carve out a prediction subset.\n",
    "4. Split annotations into train/val.\n",
    "5. Copy frames and write per-split metadata.\n",
    "\n",
    "# Libraries"
   ]
  },
  {
   "cell_type": "code",
   "execution_count": null,
   "id": "1072e279",
   "metadata": {},
   "outputs": [],
   "source": [
    "import os\n",
    "from src import (\n",
    "    load_metadata,\n",
    "    perform_split,\n",
    "    print_details,\n",
    "    copy_frames\n",
    ")"
   ]
  },
  {
   "cell_type": "markdown",
   "id": "e7acdbc3",
   "metadata": {},
   "source": [
    "# Main"
   ]
  },
  {
   "cell_type": "code",
   "execution_count": null,
   "id": "4b8ed378",
   "metadata": {},
   "outputs": [],
   "source": [
    "# Directories and filenames\n",
    "source_dir = \"\"\n",
    "output_dir = \"\"\n",
    "al_dir = os.path.join(output_dir, \"active_learning\")\n",
    "al_metadata_filename = \"active_learning.json\"\n",
    "\n",
    "os.makedirs(output_dir, exist_ok=True)\n",
    "os.makedirs(al_dir, exist_ok=True)"
   ]
  },
  {
   "cell_type": "code",
   "execution_count": null,
   "id": "b48043b4",
   "metadata": {},
   "outputs": [],
   "source": [
    "# Number of frames to manually annotate initially\n",
    "initial_annotation_data = 100"
   ]
  },
  {
   "cell_type": "code",
   "execution_count": null,
   "id": "37260749",
   "metadata": {},
   "outputs": [],
   "source": [
    "# Load active-learning frames metadata\n",
    "al_metadata = load_metadata(\n",
    "    output_dir=output_dir,\n",
    "    metadata_filename=al_metadata_filename\n",
    ")\n",
    "\n",
    "total_al = len(al_metadata)\n",
    "\n",
    "if total_al == 0:\n",
    "        print(\"No entries found in activeLearning metadata.\")"
   ]
  },
  {
   "cell_type": "markdown",
   "id": "e8160bd1",
   "metadata": {},
   "source": [
    "#### Split #1: activeLearning vs. annotations"
   ]
  },
  {
   "cell_type": "code",
   "execution_count": null,
   "id": "ebf27cfe",
   "metadata": {},
   "outputs": [],
   "source": [
    "# Proportion assigned to annotations = initialN_annotationData / total\n",
    "split_ratio_al = min(\n",
    "    1.0, \n",
    "    round(initial_annotation_data / total_al, 3)\n",
    ")\n",
    "\n",
    "udpated_1_al_metadata, annotation_metadata = perform_split(\n",
    "    metadata=al_metadata, \n",
    "    split_ratio=split_ratio_al\n",
    ")"
   ]
  },
  {
   "cell_type": "code",
   "execution_count": null,
   "id": "9a72c4e3",
   "metadata": {},
   "outputs": [],
   "source": [
    "split_data_aL = (\n",
    "    (\"active_learning\", \"active_learning.json\"),\n",
    "    (udpated_1_al_metadata, False), # do NOT copy images for this bucket\n",
    "    (source_dir, output_dir),\n",
    ")\n",
    "\n",
    "split_data_annotations = (\n",
    "    (\"annotations\", \"annotations_metadata.json\"),\n",
    "    (annotation_metadata, True), # copy images into al_dir under the folder annotations\n",
    "    (source_dir, al_dir),\n",
    ")\n",
    "\n",
    "\n",
    "split_data_1 = [split_data_aL, split_data_annotations]\n",
    "print_details(\n",
    "    metadata=al_metadata,\n",
    "    split_data=split_data_1\n",
    ")"
   ]
  },
  {
   "cell_type": "markdown",
   "id": "51e8d7a9",
   "metadata": {},
   "source": [
    "#### Split #2: carve out prediction subset from the (remaining) activeLearning"
   ]
  },
  {
   "cell_type": "code",
   "execution_count": null,
   "id": "ff8fbb86",
   "metadata": {},
   "outputs": [],
   "source": [
    "\n",
    "prediction_percentage = 30  # % of 'annotation_metadata' to predict next\n",
    "\n",
    "n_of_annotations = int((prediction_percentage * len(annotation_metadata)) / 100)\n",
    "\n",
    "denom = len(udpated_1_al_metadata)\n",
    "split_ratio_predict = 0.0 if denom == 0 else round(n_of_annotations / denom, 3)\n",
    "\n",
    "udpated_2_al_metadata, predict_metadata = perform_split(\n",
    "    udpated_1_al_metadata, \n",
    "    split_ratio_predict\n",
    ")"
   ]
  },
  {
   "cell_type": "code",
   "execution_count": null,
   "id": "3cf0ee84",
   "metadata": {},
   "outputs": [],
   "source": [
    "split_data_aL = (\n",
    "    ('active_learning', 'active_learning.json'),\n",
    "    (udpated_2_al_metadata, False),\n",
    "    (source_dir, output_dir)\n",
    ")\n",
    "\n",
    "split_data_predict =   (\n",
    "    ('predict', 'predict.json'),\n",
    "    (predict_metadata, True),\n",
    "    (source_dir, al_dir)\n",
    ")\n",
    "\n",
    "split_data_2 = [split_data_aL, split_data_predict]\n",
    "\n",
    "print_details(\n",
    "    metadata=udpated_2_al_metadata,\n",
    "    split_data=split_data_2\n",
    ")"
   ]
  },
  {
   "cell_type": "markdown",
   "id": "560ba211",
   "metadata": {},
   "source": [
    "#### Split #3: train/val split from 'annotation_metadata'"
   ]
  },
  {
   "cell_type": "code",
   "execution_count": null,
   "id": "a3ab6e93",
   "metadata": {},
   "outputs": [],
   "source": [
    "split_ratio_annotation = 0.15  # proportion to validation\n",
    "\n",
    "train_metadata, val_metadata = perform_split(\n",
    "    metadata=annotation_metadata,\n",
    "    split_ratio=split_ratio_annotation\n",
    ")"
   ]
  },
  {
   "cell_type": "code",
   "execution_count": null,
   "id": "19a289c6",
   "metadata": {},
   "outputs": [],
   "source": [
    "split_data_train = (\n",
    "    (\"train\", \"train.json\"),\n",
    "    (train_metadata, False),\n",
    "    (source_dir, al_dir),\n",
    ")\n",
    "\n",
    "split_data_val = (\n",
    "    (\"val\", \"val.json\"),\n",
    "    (val_metadata, False),\n",
    "    (source_dir, al_dir),\n",
    ")\n",
    "\n",
    "split_data_3 = [split_data_train, split_data_val]\n",
    "\n",
    "print_details(annotation_metadata, split_data_3)"
   ]
  },
  {
   "cell_type": "markdown",
   "id": "0c285310",
   "metadata": {},
   "source": [
    "#### Copy frames + write metadata for all splits"
   ]
  },
  {
   "cell_type": "code",
   "execution_count": null,
   "id": "d370b84b",
   "metadata": {},
   "outputs": [],
   "source": [
    "split_data = split_data_1 + split_data_2 + split_data_3\n",
    "\n",
    "for split in split_data:\n",
    "   copy_frames(split)"
   ]
  }
 ],
 "metadata": {
  "kernelspec": {
   "display_name": "BehavTrack",
   "language": "python",
   "name": "python3"
  },
  "language_info": {
   "codemirror_mode": {
    "name": "ipython",
    "version": 3
   },
   "file_extension": ".py",
   "mimetype": "text/x-python",
   "name": "python",
   "nbconvert_exporter": "python",
   "pygments_lexer": "ipython3",
   "version": "3.10.16"
  }
 },
 "nbformat": 4,
 "nbformat_minor": 5
}
