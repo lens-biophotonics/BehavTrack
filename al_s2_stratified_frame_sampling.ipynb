{
 "cells": [
  {
   "cell_type": "markdown",
   "id": "8152c9a8",
   "metadata": {},
   "source": [
    "This notebook is used for stratified frame selection and then saving them.\n",
    "\n",
    "# Libraries"
   ]
  },
  {
   "cell_type": "code",
   "execution_count": null,
   "id": "0bfe48bc",
   "metadata": {},
   "outputs": [],
   "source": [
    "from src import (\n",
    "    stratified_frame_selection,\n",
    "    save_frames\n",
    ")"
   ]
  },
  {
   "cell_type": "markdown",
   "id": "b8ede44a",
   "metadata": {},
   "source": [
    "# Main"
   ]
  },
  {
   "cell_type": "code",
   "execution_count": null,
   "id": "628dd151",
   "metadata": {},
   "outputs": [],
   "source": [
    "source_dir=\"\"\n",
    "output_dir=\"\""
   ]
  },
  {
   "cell_type": "code",
   "execution_count": null,
   "id": "60ede446",
   "metadata": {},
   "outputs": [],
   "source": [
    "results = stratified_frame_selection(\n",
    "    video_folder=source_dir,\n",
    "    n=2000, # total output of 2000 frames\n",
    "    k=8,\n",
    "    frame_skip=50\n",
    ")"
   ]
  },
  {
   "cell_type": "code",
   "execution_count": null,
   "id": "c2f8e4d6",
   "metadata": {},
   "outputs": [],
   "source": [
    "save_frames(\n",
    "    results=results,\n",
    "    video_folder=source_dir,\n",
    "    output_folder=output_dir\n",
    ")"
   ]
  }
 ],
 "metadata": {
  "kernelspec": {
   "display_name": "BehavTrack",
   "language": "python",
   "name": "python3"
  },
  "language_info": {
   "name": "python",
   "version": "3.10.16"
  }
 },
 "nbformat": 4,
 "nbformat_minor": 5
}
