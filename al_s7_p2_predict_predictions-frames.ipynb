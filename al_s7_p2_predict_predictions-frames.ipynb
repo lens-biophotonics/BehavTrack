{
 "cells": [
  {
   "cell_type": "markdown",
   "id": "7ddc130f",
   "metadata": {},
   "source": [
    "# Description\n",
    "\n",
    "This notebook runs inference using the trained YOLO model on the prediction set frames. It generates bounding box and keypoint predictions that will be manually corrected in the annotation interface.\n",
    "\n",
    "\n",
    "# Libraries"
   ]
  },
  {
   "cell_type": "code",
   "execution_count": null,
   "id": "cd03329e",
   "metadata": {},
   "outputs": [],
   "source": [
    "from src import (\n",
    "    predict_frames\n",
    ")"
   ]
  },
  {
   "cell_type": "markdown",
   "id": "f768406e",
   "metadata": {},
   "source": [
    "# Main"
   ]
  },
  {
   "cell_type": "code",
   "execution_count": null,
   "id": "3d7dd71a",
   "metadata": {},
   "outputs": [],
   "source": [
    "params = dict(\n",
    "    model_path=\"\",\n",
    "    input_dir=\"\",\n",
    "    output_dir=\"\",\n",
    "    max_det=5\n",
    ")"
   ]
  },
  {
   "cell_type": "markdown",
   "id": "5a46977e",
   "metadata": {},
   "source": [
    "starting predictions"
   ]
  },
  {
   "cell_type": "code",
   "execution_count": null,
   "id": "f77836cb",
   "metadata": {},
   "outputs": [],
   "source": [
    "predict_frames(**params)"
   ]
  },
  {
   "cell_type": "markdown",
   "id": "f0432312",
   "metadata": {},
   "source": [
    "Next, fix the [predicted annotations](/Annotation_WebInterface/index.html) and then, [`al_s7_p3_convert_predictions.ipynb`](/al_s7_p3_convert_predictions.ipynb)."
   ]
  }
 ],
 "metadata": {
  "kernelspec": {
   "display_name": "BehavTrack",
   "language": "python",
   "name": "python3"
  },
  "language_info": {
   "name": "python",
   "version": "3.10.16"
  }
 },
 "nbformat": 4,
 "nbformat_minor": 5
}
