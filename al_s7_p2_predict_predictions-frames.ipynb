{
 "cells": [
  {
   "cell_type": "markdown",
   "id": "7ddc130f",
   "metadata": {},
   "source": [
    "# Libraries"
   ]
  },
  {
   "cell_type": "code",
   "execution_count": null,
   "id": "cd03329e",
   "metadata": {},
   "outputs": [],
   "source": [
    "from src import (\n",
    "    predict_frames\n",
    ")"
   ]
  },
  {
   "cell_type": "markdown",
   "id": "f768406e",
   "metadata": {},
   "source": [
    "# Main"
   ]
  },
  {
   "cell_type": "code",
   "execution_count": null,
   "id": "3d7dd71a",
   "metadata": {},
   "outputs": [],
   "source": [
    "params = dict(\n",
    "    model_path=\"\",\n",
    "    input_dir=\"\",\n",
    "    output_dir=\"\",\n",
    "    max_det=5\n",
    ")"
   ]
  },
  {
   "cell_type": "markdown",
   "id": "5a46977e",
   "metadata": {},
   "source": [
    "starting predictions"
   ]
  },
  {
   "cell_type": "code",
   "execution_count": null,
   "id": "f77836cb",
   "metadata": {},
   "outputs": [],
   "source": [
    "predict_frames(**params)"
   ]
  }
 ],
 "metadata": {
  "kernelspec": {
   "display_name": "BehavTrack",
   "language": "python",
   "name": "python3"
  },
  "language_info": {
   "name": "python",
   "version": "3.10.16"
  }
 },
 "nbformat": 4,
 "nbformat_minor": 5
}
