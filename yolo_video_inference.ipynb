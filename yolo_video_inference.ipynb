{
 "cells": [
  {
   "cell_type": "markdown",
   "id": "1fd9dafd",
   "metadata": {},
   "source": [
    "# Description\n",
    "\n",
    "This notebook applies a trained YOLO model to full videos, producing frame-by-frame detections and saving results. It is used once the model is stable after several active learning cycles.\n",
    "\n",
    "# Libraries"
   ]
  },
  {
   "cell_type": "code",
   "execution_count": null,
   "id": "1a84cb3f",
   "metadata": {},
   "outputs": [],
   "source": [
    "from src import (\n",
    "    predict_videos\n",
    ")"
   ]
  },
  {
   "cell_type": "markdown",
   "id": "ec5736fa",
   "metadata": {},
   "source": [
    "# Main"
   ]
  },
  {
   "cell_type": "code",
   "execution_count": null,
   "id": "00688f7f",
   "metadata": {},
   "outputs": [],
   "source": [
    "params = dict(\n",
    "    model_path=\"\",\n",
    "    input_dir=\"\",  # directory with all the videos\n",
    "    output_dir=\"\",  # directory to save the predictions\n",
    "    max_det=5,  # maximum number of detections per image\n",
    "    track=True,  # whether to track objects\n",
    ")"
   ]
  },
  {
   "cell_type": "code",
   "execution_count": null,
   "id": "b57ec4d0",
   "metadata": {},
   "outputs": [],
   "source": [
    "predict_videos(**params)"
   ]
  }
 ],
 "metadata": {
  "kernelspec": {
   "display_name": "BehavTrack",
   "language": "python",
   "name": "python3"
  },
  "language_info": {
   "name": "python",
   "version": "3.10.16"
  }
 },
 "nbformat": 4,
 "nbformat_minor": 5
}
