{
 "cells": [
  {
   "cell_type": "markdown",
   "id": "78a32489",
   "metadata": {},
   "source": [
    "Copies manually annotated frames into `train/` and `val/` folders and\n",
    "writes corresponding YOLO label files next to each image, based on\n",
    "precomputed split metadata.\n",
    "\n",
    "# Libraries"
   ]
  },
  {
   "cell_type": "code",
   "execution_count": null,
   "id": "4e7a38a5",
   "metadata": {},
   "outputs": [],
   "source": [
    "from src import (\n",
    "    load_metadata,\n",
    "    prepare_train_val\n",
    ")\n",
    "\n",
    "import os"
   ]
  },
  {
   "cell_type": "markdown",
   "id": "72edafa9",
   "metadata": {},
   "source": [
    "# Main"
   ]
  },
  {
   "cell_type": "code",
   "execution_count": null,
   "id": "eb679e7a",
   "metadata": {},
   "outputs": [],
   "source": [
    "# Base directory containing active-learning artifacts\n",
    "al_dir = \"\""
   ]
  },
  {
   "cell_type": "code",
   "execution_count": null,
   "id": "a6aab9a6",
   "metadata": {},
   "outputs": [],
   "source": [
    "# Train / Val dirs and metadata filenames\n",
    "train_dir = os.path.join(al_dir, \"train\")\n",
    "train_json = \"train.json\"\n",
    "val_dir = os.path.join(al_dir, \"val\")\n",
    "val_json = \"val.json\"\n",
    "\n",
    "# Manually annotated frames + JSON live here\n",
    "annotations_dir = os.path.join(al_dir, \"annotations\")\n",
    "annotation_json = \"annotation.json\"\n",
    "\n",
    "# Ensure output directories exist\n",
    "os.makedirs(train_dir, exist_ok=True)\n",
    "os.makedirs(val_dir, exist_ok=True)"
   ]
  },
  {
   "cell_type": "code",
   "execution_count": null,
   "id": "d91882d7",
   "metadata": {},
   "outputs": [],
   "source": [
    "# Load metadata\n",
    "manually_annotate_frames_json = load_metadata(\n",
    "    source_dir=annotations_dir,\n",
    "    metadata_filename=annotation_json\n",
    ")\n",
    "\n",
    "train_metadata = load_metadata(\n",
    "    source_dir=al_dir,\n",
    "    metadata_filename=train_json\n",
    ")\n",
    "\n",
    "val_metadata = load_metadata(\n",
    "    source_dir=al_dir,\n",
    "    metadata_filename=val_json\n",
    ")"
   ]
  },
  {
   "cell_type": "code",
   "execution_count": null,
   "id": "53cd0123",
   "metadata": {},
   "outputs": [],
   "source": [
    "# Build fast lookup sets of basenames present in splits\n",
    "train_names = {\n",
    "    os.path.basename(entry[\"image_path\"]) \n",
    "    for entry in train_metadata if \"image_path\" in entry\n",
    "}\n",
    "val_names   = {\n",
    "    os.path.basename(entry[\"image_path\"]) \n",
    "    for entry in val_metadata   if \"image_path\" in entry\n",
    "}\n",
    "\n",
    "# Iterate over each manually annotated frame and route to the correct split(s)\n",
    "for frame_name, annotation_info in manually_annotate_frames_json.items():\n",
    "    # If this frame is in train split, prepare it there\n",
    "    if frame_name in train_names:\n",
    "        prepare_train_val(\n",
    "            t_v_dir=train_dir, \n",
    "            annotations_dir=annotations_dir, \n",
    "            frame_name=frame_name, \n",
    "            annotation_info=annotation_info\n",
    "        )\n",
    "\n",
    "    # If this frame is in val split, prepare it there\n",
    "    if frame_name in val_names:\n",
    "        prepare_train_val(\n",
    "            t_v_dir=val_dir, \n",
    "            annotations_dir=annotations_dir, \n",
    "            frame_name=frame_name, \n",
    "            annotation_info=annotation_info\n",
    "        )"
   ]
  }
 ],
 "metadata": {
  "kernelspec": {
   "display_name": "BehavTrack",
   "language": "python",
   "name": "python3"
  },
  "language_info": {
   "name": "python",
   "version": "3.10.16"
  }
 },
 "nbformat": 4,
 "nbformat_minor": 5
}
